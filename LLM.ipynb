{
 "cells": [
  {
   "cell_type": "markdown",
   "metadata": {},
   "source": [
    "We will be creating a basic data frame"
   ]
  },
  {
   "cell_type": "code",
   "execution_count": 2,
   "metadata": {},
   "outputs": [],
   "source": [
    "import pandas as pd\n",
    "\n",
    "# Data input\n",
    "\n",
    "def get_data():\n",
    "    data = {\n",
    "        'Name': ['Ewan', 'David', 'Jack', 'Paul', 'Ben'],\n",
    "        'Age': [30, 31, 28, 29, 30]        \n",
    "    }\n",
    "    data_frame = pd.DataFrame(data)\n",
    "\n",
    "    print(data_frame)"
   ]
  },
  {
   "cell_type": "markdown",
   "metadata": {},
   "source": [
    "Here it is ..."
   ]
  },
  {
   "cell_type": "code",
   "execution_count": 3,
   "metadata": {},
   "outputs": [
    {
     "name": "stdout",
     "output_type": "stream",
     "text": [
      "    Name  Age\n",
      "0   Ewan   30\n",
      "1  David   31\n",
      "2   Jack   28\n",
      "3   Paul   29\n",
      "4    Ben   30\n"
     ]
    }
   ],
   "source": [
    "\n",
    "get_data()\n",
    "\n"
   ]
  }
 ],
 "metadata": {
  "kernelspec": {
   "display_name": "base",
   "language": "python",
   "name": "python3"
  },
  "language_info": {
   "codemirror_mode": {
    "name": "ipython",
    "version": 3
   },
   "file_extension": ".py",
   "mimetype": "text/x-python",
   "name": "python",
   "nbconvert_exporter": "python",
   "pygments_lexer": "ipython3",
   "version": "3.11.5"
  },
  "orig_nbformat": 4
 },
 "nbformat": 4,
 "nbformat_minor": 2
}
